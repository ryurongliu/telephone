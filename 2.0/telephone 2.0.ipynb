{
 "cells": [
  {
   "cell_type": "code",
   "execution_count": 1,
   "id": "c25f7857-a098-4ad8-ab32-e07685c32a72",
   "metadata": {},
   "outputs": [],
   "source": [
    "from telephone import Phonebook\n",
    "from telephone import main_telephone\n",
    "from pyfirmata2 import Arduino "
   ]
  },
  {
   "cell_type": "code",
   "execution_count": null,
   "id": "511418c0-d030-4c59-8467-2d762bf7b45f",
   "metadata": {},
   "outputs": [],
   "source": [
    "phoneboard = Arduino(\"/dev/cu.usbmodem1101\")"
   ]
  },
  {
   "cell_type": "code",
   "execution_count": null,
   "id": "31ee24c2-f616-435c-bdc4-2e82b85c2303",
   "metadata": {},
   "outputs": [],
   "source": [
    "homeboard = Arduino(\"/dev/cu.usbmodem3101\")"
   ]
  },
  {
   "cell_type": "code",
   "execution_count": null,
   "id": "e9ae1778-06cb-4a90-96b4-04a0bfc3e959",
   "metadata": {},
   "outputs": [],
   "source": [
    "homeboard.digital[12].write(True)"
   ]
  },
  {
   "cell_type": "code",
   "execution_count": null,
   "id": "b9753b7c-5c40-46cf-8fc0-df86ae1b1f90",
   "metadata": {},
   "outputs": [],
   "source": [
    "homeboard.digital[12].write(False)"
   ]
  },
  {
   "cell_type": "code",
   "execution_count": 2,
   "id": "ad32c46f-a72d-41ed-9d7e-d74c33aa4110",
   "metadata": {},
   "outputs": [],
   "source": [
    "#TEST RUN FOR VOICE PAIRS\n",
    "\n",
    "phonebook = Phonebook(8, record=True, print_record=True, confirm_record=False, verbose=False) #, pl=phoneboard, hl=homeboard)\n",
    "phones = phonebook.lines\n",
    "\n",
    "note_ranges = {\n",
    "    0: (61, 69),\n",
    "    1: (70, 78),\n",
    "    2: (33, 41),\n",
    "    3: (79, 87),\n",
    "    4: (51, 59),\n",
    "    5: (88, 96),\n",
    "    6: (24, 32),\n",
    "    7: (42, 50)\n",
    "}\n",
    "\n",
    "for i in range(len(phones)):\n",
    "    phone = phones[i]\n",
    "    phone.set_note_range(note_ranges[i])"
   ]
  },
  {
   "cell_type": "code",
   "execution_count": 6,
   "id": "784a6229-1dc6-483f-b1fc-1b25ce68a419",
   "metadata": {},
   "outputs": [],
   "source": [
    "phonebook.reset()"
   ]
  },
  {
   "cell_type": "code",
   "execution_count": 4,
   "id": "9b6dac41-3aa9-4aca-9bb1-c98466de5124",
   "metadata": {},
   "outputs": [
    {
     "name": "stdout",
     "output_type": "stream",
     "text": [
      "STARTING\n",
      "CALL LOG: September 17, 2025 09:19:34PM 7 --> 4, call declined, ringtime 5.06s\n",
      "CALL LOG: September 17, 2025 09:19:33PM 5 --> 6, call duration 8.0s, ringtime 5.26s\n",
      "CALL LOG: September 17, 2025 09:19:35PM 0 --> 3, call duration 9.16s, ringtime 7.66s\n",
      "CALL LOG: September 17, 2025 09:19:46PM 7 --> 2, call duration 10.12s, ringtime 4.37s\n",
      "CALL LOG: September 17, 2025 09:20:06PM 7 --> 1, call duration 13.83s, ringtime 4.33s\n",
      "ENDING\n",
      "\n",
      "RESTARTING\n",
      "saving phonebook call log of 5 calls at 09_17_2025_09_20_37PM\n",
      "CALL LOG: September 17, 2025 09:20:44PM 4 --> 1, call duration 6.38s, ringtime 7.61s\n",
      "ENDING\n",
      "\n",
      "RESTARTING\n",
      "saving phonebook call log of 1 calls at 09_17_2025_09_21_11PM\n",
      "CALL LOG: September 17, 2025 09:21:16PM 7 --> 3, call duration 5.8s, ringtime 6.79s\n",
      "ENDING\n",
      "\n",
      "RESTARTING\n",
      "saving phonebook call log of 1 calls at 09_17_2025_09_21_42PM\n",
      "CALL LOG: September 17, 2025 09:21:45PM 4 --> 1, call duration 5.69s, ringtime 4.15s\n"
     ]
    },
    {
     "ename": "KeyboardInterrupt",
     "evalue": "",
     "output_type": "error",
     "traceback": [
      "\u001b[0;31m---------------------------------------------------------------------------\u001b[0m",
      "\u001b[0;31mKeyboardInterrupt\u001b[0m                         Traceback (most recent call last)",
      "Cell \u001b[0;32mIn[4], line 1\u001b[0m\n\u001b[0;32m----> 1\u001b[0m \u001b[43mmain_telephone\u001b[49m\u001b[43m(\u001b[49m\u001b[43mphonebook\u001b[49m\u001b[43m,\u001b[49m\u001b[43m \u001b[49m\u001b[43m[\u001b[49m\u001b[38;5;241;43m0\u001b[39;49m\u001b[43m,\u001b[49m\u001b[43m \u001b[49m\u001b[38;5;241;43m3\u001b[39;49m\u001b[43m,\u001b[49m\u001b[43m \u001b[49m\u001b[38;5;241;43m5\u001b[39;49m\u001b[43m,\u001b[49m\u001b[43m \u001b[49m\u001b[38;5;241;43m7\u001b[39;49m\u001b[43m]\u001b[49m\u001b[43m,\u001b[49m\u001b[43m \u001b[49m\u001b[38;5;241;43m0.1\u001b[39;49m\u001b[43m,\u001b[49m\u001b[43m \u001b[49m\u001b[38;5;241;43m3\u001b[39;49m\u001b[43m,\u001b[49m\u001b[43m \u001b[49m\u001b[38;5;241;43m8\u001b[39;49m\u001b[43m,\u001b[49m\u001b[43m \u001b[49m\u001b[43mverbose\u001b[49m\u001b[38;5;241;43m=\u001b[39;49m\u001b[38;5;28;43;01mFalse\u001b[39;49;00m\u001b[43m)\u001b[49m\n",
      "File \u001b[0;32m~/Documents/ART/ongoing/telephone/2.0/telephone.py:1336\u001b[0m, in \u001b[0;36mmain_telephone\u001b[0;34m(phonebook, starters, dt, num_new_starters, num_lines, verbose)\u001b[0m\n\u001b[1;32m   1332\u001b[0m         phone\u001b[38;5;241m.\u001b[39msleep()\n\u001b[1;32m   1335\u001b[0m curr_time \u001b[38;5;241m+\u001b[39m\u001b[38;5;241m=\u001b[39m dt\n\u001b[0;32m-> 1336\u001b[0m \u001b[43mtime\u001b[49m\u001b[38;5;241;43m.\u001b[39;49m\u001b[43msleep\u001b[49m\u001b[43m(\u001b[49m\u001b[43mdt\u001b[49m\u001b[43m)\u001b[49m\n\u001b[1;32m   1337\u001b[0m t \u001b[38;5;241m+\u001b[39m\u001b[38;5;241m=\u001b[39m \u001b[38;5;241m1\u001b[39m\n\u001b[1;32m   1341\u001b[0m \u001b[38;5;66;03m#check for nothing happening to reset \u001b[39;00m\n",
      "\u001b[0;31mKeyboardInterrupt\u001b[0m: "
     ]
    }
   ],
   "source": [
    "main_telephone(phonebook, [0, 3, 5, 7], 0.1, 4, 8, verbose=False)"
   ]
  }
 ],
 "metadata": {
  "kernelspec": {
   "display_name": "Python 3 (ipykernel)",
   "language": "python",
   "name": "python3"
  },
  "language_info": {
   "codemirror_mode": {
    "name": "ipython",
    "version": 3
   },
   "file_extension": ".py",
   "mimetype": "text/x-python",
   "name": "python",
   "nbconvert_exporter": "python",
   "pygments_lexer": "ipython3",
   "version": "3.12.9"
  }
 },
 "nbformat": 4,
 "nbformat_minor": 5
}
